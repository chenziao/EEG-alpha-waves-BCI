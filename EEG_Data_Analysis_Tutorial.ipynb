{
  "nbformat": 4,
  "nbformat_minor": 0,
  "metadata": {
    "kernelspec": {
      "display_name": "Python 3",
      "language": "python",
      "name": "python3"
    },
    "language_info": {
      "codemirror_mode": {
        "name": "ipython",
        "version": 3
      },
      "file_extension": ".py",
      "mimetype": "text/x-python",
      "name": "python",
      "nbconvert_exporter": "python",
      "pygments_lexer": "ipython3",
      "version": "3.7.1"
    },
    "colab": {
      "name": "Copy of EEG_Data_Analysis_Tutorial.ipynb",
      "provenance": [],
      "collapsed_sections": []
    }
  },
  "cells": [
    {
      "cell_type": "markdown",
      "metadata": {
        "id": "6lZDOz6rc4_W"
      },
      "source": [
        "![image](https://raw.githubusercontent.com/chenziao/EEG-alpha-waves-BCI/main/eeg-children.jpg)\n",
        "\n",
        "# Welcome to the EEG Tutorial!\n",
        "#### By the end of this tutorial, you will be able to...\n",
        "\n",
        "_1. Understand what an EEG is._\n",
        "\n",
        "_2. Recognize the five different brain waves and when they occur._\n",
        "\n",
        "_3. Examine your own brain data!_\n"
      ]
    },
    {
      "cell_type": "markdown",
      "metadata": {
        "id": "wVPIwNeDc4_j"
      },
      "source": [
        "## So, what is an EEG and why should we be learning about it?\n",
        "\n",
        "EEG stands for __electroencephalogram__, which is a test that records the electrical signals produced by the brain. Our brain cells communicate using electrical signals, and we can measure some of these signals using special electrodes (like the ones the children are wearing in the image above). A signal may be classified by its __frequency__ (number of peaks measured per second) and __amplitude__ (the strength of each peak).\n",
        "\n",
        "![image](https://raw.githubusercontent.com/chenziao/EEG-alpha-waves-BCI/main/brainwave-chart-01.png)\n",
        "\n",
        "---"
      ]
    },
    {
      "cell_type": "markdown",
      "metadata": {
        "id": "aJt6qbN1c4_k"
      },
      "source": [
        "## That's cool, but what do these waves mean? \n",
        "\n",
        "Each of the five waves listed above represent a different brain __state__. For example, the __delta__ waves are observed when a person is in __deep sleep__. The short video below will explain each wave and the brain state associated with it:"
      ]
    },
    {
      "cell_type": "code",
      "metadata": {
        "id": "ms9sHdq8c4_l"
      },
      "source": [
        "from IPython.display import YouTubeVideo\n",
        "# a short video about brain waves\n",
        "# Video credit: Brainfacts.org.\n",
        "YouTubeVideo('8CejGESrRkc')"
      ],
      "execution_count": null,
      "outputs": []
    },
    {
      "cell_type": "markdown",
      "metadata": {
        "id": "UDwSJvJHc4_m"
      },
      "source": [
        "---\n",
        "\n",
        "## Why are EEG tests important? What's the point?\n",
        "\n",
        "An EEG test is capable of detecting brain disorders such as __seizures__, __dizziness__, __epilepsy__, and even __brain tumors__. Many disorders are detected by noting an abnormal spike/pattern in the brain waves as they're being measured. The following image shows normal brain wave activity followed by brain wave activity during a seizure:\n",
        "\n",
        "![image](https://raw.githubusercontent.com/chenziao/EEG-alpha-waves-BCI/main/EEG.png)"
      ]
    },
    {
      "cell_type": "markdown",
      "metadata": {
        "id": "Hkx5aTVsc4_n"
      },
      "source": [
        "---\n",
        "\n",
        "## Awesome, when can I look at my brain waves?\n",
        "\n",
        "Right now! We probably won't see any __delta__ or __theta__ waves (unless you were very committed and _fell asleep_ while taking measurements), but if you closed your eyes and relaxed at any point, you may catch an __alpha__ wave somewhere in your data! Or, if you were _really_ deep in thought or focused on a problem, you could even find a __gamma__ wave!  \n",
        "\n",
        "Run cells below and you will see a dropdown menu where you can select the data file of the EEG recording.  \n",
        "\n",
        "After you select your file, run the cells below it. Four plots (one for each of the electrodes you placed on your head) will appear. Each plot has __four__ sliders:  \n",
        "&emsp;&emsp;(1) x position; (2) width; (3) y position; (4) height of your view window\n",
        "    \n",
        "Each plot will automatically update as you move any of the sliders.  \n",
        "\n",
        "Then you can continue to run cells below to select a window and analyze the recording. \n",
        "\n",
        "If you wish to __restart__ the analysis for the same recording, just rerun the cells below data selection in order.  \n",
        "\n",
        "If you wish to __start over__ with a new EEG data file, select in the dropdown menu, click on select button and continue.  \n",
        "\n",
        "If you're feeling extra adventurous, you can modify this code if you wish to add any features to the plots, change the colors, etc. \n",
        "\n",
        "#### Good luck and enjoy the _waves_!\n",
        "\n",
        "---"
      ]
    },
    {
      "cell_type": "markdown",
      "metadata": {
        "id": "4XoXPmOVeHSz"
      },
      "source": [
        "## - Download recordings data files from Github and select data"
      ]
    },
    {
      "cell_type": "code",
      "metadata": {
        "id": "cIzu4ncAdo3u"
      },
      "source": [
        "import os\n",
        "\n",
        "if os.path.basename(os.getcwd())!='EEG-alpha-waves-BCI':\n",
        "  !git clone https://github.com/chenziao/EEG-alpha-waves-BCI.git\n",
        "  %cd EEG-alpha-waves-BCI/\n",
        "else:\n",
        "  print('Data files have already been downloaded.')\n",
        "%ls"
      ],
      "execution_count": null,
      "outputs": []
    },
    {
      "cell_type": "code",
      "metadata": {
        "id": "JLbub59heZ8q"
      },
      "source": [
        "import glob\n",
        "import ipywidgets as widgets\n",
        "from ipywidgets import interactive_output,HBox,VBox,Label,Layout\n",
        "from IPython.display import display, Javascript, clear_output\n",
        "\n",
        "datafiles = sorted(glob.glob('*.txt'))\n",
        "\n",
        "def select_files(*arg):\n",
        "    global file_name\n",
        "    file_name = w_file.value\n",
        "    clear_output(wait=True)\n",
        "    display(VBox([w_file,SelectFileButton]))\n",
        "    print(file_name+' is selected.')\n",
        "\n",
        "w_file = widgets.Dropdown(options=datafiles,description='Select Data:')\n",
        "SelectFileButton = widgets.Button(description='Select',button_style='primary')\n",
        "SelectFileButton.on_click(select_files)\n",
        "select_files()"
      ],
      "execution_count": null,
      "outputs": []
    },
    {
      "cell_type": "markdown",
      "metadata": {
        "id": "C-bQ9oBBc4_s"
      },
      "source": [
        "---\n",
        "\n",
        "## Raw EEG signal of muti-channel recordings\n",
        "Select channels and view the raw EEG. Use the sliders to control axes. To update faster, disable 'continuous update'."
      ]
    },
    {
      "cell_type": "code",
      "metadata": {
        "id": "aiRGA6YCc4_t"
      },
      "source": [
        "import pandas as pd\n",
        "import numpy as np\n",
        "from scipy import signal\n",
        "import ipywidgets as widgets\n",
        "from ipywidgets import interactive_output,HBox,VBox,Label,Layout\n",
        "from IPython.display import display\n",
        "import matplotlib.pyplot as plt\n",
        "%matplotlib inline\n",
        "\n",
        "# ...And reading in our data:\n",
        "# We want to read in number of channels and sampling rate from the first few rows, then drop them\n",
        "# and we want to give our data some column labels:\n",
        "headers = ['Index','EEG_1','EEG_2','EEG_3','EEG_4','ACC_1','ACC_2','ACC_3','Timestamp_1','Timestamp_2']\n",
        "eeg_data = pd.read_csv(open(file_name),names=headers)\n",
        "NChannels = [int(s) for s in eeg_data.iloc[1,0].split() if s.isdigit()][0] # number of channels\n",
        "Fs = [float(s) for s in eeg_data.iloc[2,0].split() if s.replace('.','',1).isdigit()][0] # sampling rate\n",
        "eeg_data.dropna(inplace=True) # drop first few lines possible NaN values\n",
        "eeg_data.reset_index(inplace=True,drop=True)\n",
        "eeg_col = ['EEG_'+str(i) for i in range(1,NChannels+1)] # column names\n",
        "\n",
        "eeg0 = eeg_data[eeg_col]\n",
        "N0 = eeg0.shape[0] # Total number of time samples\n",
        "T0 = eeg0.index.values/Fs # Time samples (second)\n",
        "channel_site = ['Left Frontal Lobe','Right Frontal Lobe','Left Occipital Lobe','Right Occipital Lobe']\n",
        "channel = ['1','2','3','4']\n",
        "\n",
        "tpseg = 4 # length of segment (second) for spectral analysis\n",
        "npseg = 2**np.ceil(np.log2(tpseg*Fs)) # samples per segment\n",
        "minseg = npseg/Fs # minimun length of segment required\n",
        "\n",
        "[xmin,xmax,ymin,ymax] = [T0[0],T0[-1],eeg0.min().min(),eeg0.max().max()]\n",
        "[W,H] = [xmax-xmin,ymax-ymin]\n",
        "def plot_eeg(channel,px,py,pw,ph):\n",
        "    nchannel = len(channel)\n",
        "    if nchannel == 0:\n",
        "        print('Channels not selected.')\n",
        "        return()\n",
        "    \n",
        "    xx = np.array([px-1/pw/2,px+1/pw/2])\n",
        "    yy = np.array([py-1/ph/2,py+1/ph/2])\n",
        "    [x1,x2] = [max(np.floor(xx[0]*N0).astype(int),0) , min(np.ceil(xx[1]*N0).astype(int),N0)+1]\n",
        "    \n",
        "    plt.figure(figsize=(12,5*nchannel))\n",
        "    for i in range(nchannel):\n",
        "        plt.subplot(nchannel,1,i+1)\n",
        "        plt.plot(T0[x1:x2],eeg0['EEG_'+channel[i]][x1:x2],'b')\n",
        "#         plt.plot(T0,eeg0['EEG_'+channel[i]],'b')\n",
        "        plt.xlim(xmin+W*xx)\n",
        "        plt.ylim(ymin+H*yy)\n",
        "        plt.grid()\n",
        "        if i==nchannel-1: plt.xlabel('Time (sec)')\n",
        "        plt.ylabel('Voltage $(\\mu V)$')\n",
        "        plt.title(channel_site[int(channel[i])-1]+' (EEG_'+channel[i]+')')\n",
        "    plt.show()\n",
        "\n",
        "xslider = Layout(width='500px')\n",
        "yslider = Layout(height='250px')\n",
        "w_chan = widgets.SelectMultiple(options=list(zip(channel_site,channel)),rows=NChannels,value=channel)\n",
        "w_px = widgets.FloatSlider(value=0.5,min=0.5,max=0.5,step=minseg/T0[-1]/10,readout=False,orientation='horizontal',layout=xslider)\n",
        "w_py = widgets.FloatSlider(value=0.5,min=0.5,max=0.5,step=0.001,readout=False,orientation='vertical',layout=yslider)\n",
        "w_pw = widgets.FloatLogSlider(value=1,base=10,min=0,max=np.log10(T0[-1]/minseg),step=0.02,readout=False,orientation='horizontal',layout=xslider)\n",
        "w_ph = widgets.FloatLogSlider(value=1,base=10,min=0,max=2,step=0.02,readout=False,orientation='vertical',layout=yslider)\n",
        "w_update = widgets.ToggleButton(value=True,description='Continuous update',button_style='info',icon='times')\n",
        "\n",
        "def cont_update(*args):\n",
        "    if w_update.value:\n",
        "        w_update.icon = 'times'\n",
        "        w_px.continuous_update = True; w_py.continuous_update = True\n",
        "        w_pw.continuous_update = True; w_ph.continuous_update = True\n",
        "    else:\n",
        "        w_update.icon = 'repeat'\n",
        "        w_px.continuous_update = False; w_py.continuous_update = False\n",
        "        w_pw.continuous_update = False; w_ph.continuous_update = False\n",
        "w_update.observe(cont_update,'value')\n",
        "\n",
        "def update_px(*arg):\n",
        "    w_px.min = max(1/w_pw.value/2,w_px.value-1/w_pw.value)\n",
        "    w_px.max = min(1-1/w_pw.value/2,w_px.value+1/w_pw.value)\n",
        "w_pw.observe(update_px,'value')\n",
        "w_px.observe(update_px,'value')\n",
        "\n",
        "def update_py(*arg):\n",
        "    w_py.min = max(1/w_ph.value/2,w_py.value-1/w_ph.value)\n",
        "    w_py.max = min(1-1/w_ph.value/2,w_py.value+1/w_ph.value)\n",
        "w_ph.observe(update_py,'value')\n",
        "w_py.observe(update_py,'value')\n",
        "\n",
        "around = Layout(align_items='flex-start',justify_content='space-around')\n",
        "out = interactive_output(plot_eeg,{'channel':w_chan,'px':w_px,'py':w_py,'pw':w_pw,'ph':w_ph})\n",
        "ui = VBox([ Label('Select Channels (select multiple by holding ctrl/shift + click)'),w_chan,\n",
        "           HBox([VBox([Label('Zoom in/out'),Label('X positon')]),VBox([w_pw,w_px]),w_update],layout=around),\n",
        "           HBox([out, VBox([HBox([Label('Y positon'),Label('Zoom in/out')]),HBox([w_py,w_ph])]) ],layout=around) ])\n",
        "\n",
        "display(ui)"
      ],
      "execution_count": null,
      "outputs": []
    },
    {
      "cell_type": "markdown",
      "metadata": {
        "id": "Tu0ePyib6mPN"
      },
      "source": [
        "## Select time window for analysis\n",
        "\n",
        "To change time window, rerun the cell below and run all following cells."
      ]
    },
    {
      "cell_type": "code",
      "metadata": {
        "scrolled": false,
        "id": "LfVShCUlc4_v"
      },
      "source": [
        "print('If you want to cut out a segment from the EEG recording, please enter your desired interval in second (e.g. \"5 12.5\") and press [ENTER].\\nOtherwise, press enter to skip: ')\n",
        "while True:\n",
        "    interval = input()\n",
        "    interval = [float(s) for s in interval.replace(',',' ').split() if s.replace('.','',1).isdigit()]\n",
        "    if len(interval)<2:\n",
        "        print('No interval specified. Entire recording will be used.');\n",
        "        interval = T0[[0,-1]]\n",
        "    else:\n",
        "        interval = np.array([max(interval[0],0),min(interval[1],T0[-1])])\n",
        "    if interval[1]-interval[0]<=minseg:\n",
        "        print('Selected segment %.2f-%.2f second is too short for further analysis.Please choose a segment longer than %.2f seconds.'\n",
        "              %(interval[0],interval[1],minseg))\n",
        "    else:\n",
        "        print('%.2f-%.2f second will be cut out for further analysis.' % tuple(interval)); break\n",
        "\n",
        "idx = np.nonzero(np.logical_and(T0>=interval[0], T0<=interval[1]))\n",
        "eeg = eeg0.iloc[idx]\n",
        "N = eeg.shape[0]\n",
        "T = T0[idx]\n",
        "Xmin = T[0]\n",
        "WW = T[-1]-Xmin"
      ],
      "execution_count": null,
      "outputs": []
    },
    {
      "cell_type": "markdown",
      "metadata": {
        "id": "OAtpiWcJc4_w"
      },
      "source": [
        "---\n",
        "\n",
        "## Power spectral density of EEG recordings\n",
        "Calculate the power spectral density of EEG over the whole recording using Welch's method. Divide the power spectrum into 6 bands of different rhythms."
      ]
    },
    {
      "cell_type": "code",
      "metadata": {
        "scrolled": false,
        "id": "jjA7bShoc4_x"
      },
      "source": [
        "from scipy import signal\n",
        "\n",
        "waves = ['Delta','Theta','Alpha','Beta','Gamma','High Gamma']\n",
        "freq_band = np.array([[1.,4.],[4.,8.],[8.,12.],[12.,30.],[30.,70.],[70.,100.]])\n",
        "nband = len(waves)\n",
        "fshow = 100 # Maximun frequency to display (Hz)\n",
        "eeg_np = eeg.values # convert to numpy array\n",
        "eeg_np -= eeg_np.mean(axis=0) # remove DC component\n",
        "jet = plt.get_cmap('jet') # colormap\n",
        "clr = jet(np.linspace(0,1,nband)) # colors\n",
        "\n",
        "Ff, Pxx = signal.welch(eeg_np,Fs,nperseg=npseg,axis=0) # welch's power spectral density estimation\n",
        "Pxx[[0,-1],:]*=2\n",
        "plt.figure(figsize=(8,6))\n",
        "plt.semilogy(Ff,Pxx)\n",
        "plt.xlim(0,fshow)\n",
        "yl = plt.gca().get_ylim()\n",
        "for i in range(nband):\n",
        "    ytxt = yl[0]*(yl[1]/yl[0])**(np.array([0.9,0.88])-0.05*i)\n",
        "    plt.semilogy(freq_band[i,0]*np.ones(2),yl,color=clr[i])\n",
        "    plt.semilogy(freq_band[i,1]*np.ones(2),yl,color=clr[i])\n",
        "    plt.semilogy(freq_band[i,:],ytxt[1]*np.ones(2),color=clr[i])\n",
        "    plt.text(freq_band[i,0],ytxt[0],waves[i],color=clr[i])\n",
        "    print(waves[i]+': %.0f-%.0fHz ' %(freq_band[i][0],freq_band[i][1]),end = '   ')\n",
        "plt.ylim(yl)\n",
        "plt.legend(eeg_col,loc=1)\n",
        "plt.title('Power spectral density')\n",
        "plt.xlabel('Frequency (Hz)')\n",
        "plt.ylabel('PSD $(\\mu V^2/Hz)$')\n",
        "plt.show()"
      ],
      "execution_count": null,
      "outputs": []
    },
    {
      "cell_type": "markdown",
      "metadata": {
        "id": "jGZP7DKAc4_x"
      },
      "source": [
        "## Band-pass filter the EEG to get waves\n",
        "Design Butterworth filter for each rhythm and apply Hilbert transform."
      ]
    },
    {
      "cell_type": "code",
      "metadata": {
        "id": "1DyhElY2c4_y"
      },
      "source": [
        "eeg_filt = eeg_HBamp = np.empty( shape=(N,NChannels,nband) )\n",
        "eeg_power = np.empty( shape=(N,NChannels,nband) )\n",
        "for i in range(nband):\n",
        "    if freq_band[i,1]>=Fs/2:\n",
        "        bFilt,aFilt = signal.butter(2,freq_band[i,0]*2/Fs,btype='highpass') # High-pass filter if cutoff frequency exceed Nyquist frequency\n",
        "    else:\n",
        "        bFilt,aFilt = signal.butter(2,freq_band[i]*2/Fs,btype='bandpass') # Design filters\n",
        "    eeg_filt[:,:,i] = signal.filtfilt(bFilt,aFilt,eeg_np,axis=0) # Filtered EEG\n",
        "    for j in range(NChannels):\n",
        "#         eeg_power[:,j,i] = np.sqrt(signal.convolve(eeg_filt[:,j,i]**2,np.ones(int(npseg)),mode='same')/npseg)\n",
        "        eeg_power[:,j,i] = np.sqrt(signal.convolve(eeg_filt[:,j,i]**2,np.ones(int(npseg)),mode='full')/npseg)[:N] # Accumulated Power\n",
        "eeg_HBamp = np.absolute(signal.hilbert(eeg_filt,axis=0)) # Hilbert tranform\n",
        "\n",
        "def pow2db(x):\n",
        "    return 10*np.log10(x)\n",
        "FF,t,Sxx = signal.spectrogram(eeg_np[:,0],Fs,nperseg=int(npseg/4),noverlap=int(npseg/16)) # Spectrogram\n",
        "fidx = np.nonzero(FF<=fshow)\n",
        "F = FF[fidx]\n",
        "SxxdB = pow2db(Sxx[fidx])\n",
        "\n",
        "# define function for plots\n",
        "Ymin = [eeg_np.min(axis=0),-eeg_HBamp.max(axis=0)]\n",
        "HH = [eeg_np.max(axis=0)-Ymin[0],-2*Ymin[1],eeg_power.max(axis=0)]\n",
        "def plot_waves(channel,band,px,py1,py2,pw,ph1,ph2):\n",
        "    xx = np.array([px-1/pw/2,px+1/pw/2])\n",
        "    y1 = np.array([py1-1/ph1/2,py1+1/ph1/2])\n",
        "    y2 = np.array([py2-1/ph2/2,py2+1/ph2/2])\n",
        "    [x1,x2] = [max(np.floor(xx[0]*N).astype(int),0) , min(np.ceil(xx[1]*N).astype(int),N)]\n",
        "    \n",
        "    plt.figure(figsize=(12,20))\n",
        "    # Raw signal\n",
        "    plt.subplot(4,1,1)\n",
        "    plt.title(waves[band]+' wave of '+channel_site[channel]+' (EEG_'+str(channel+1)+')')\n",
        "    plt.plot(T[x1:x2],eeg_np[x1:x2,channel],'k')\n",
        "    plt.xlim(Xmin+WW*xx)\n",
        "    plt.ylim(Ymin[0][channel]+HH[0][channel]*y1)\n",
        "    plt.grid()\n",
        "    plt.xlabel('Time (sec)')\n",
        "    plt.ylabel('Voltage $(\\mu V)$')\n",
        "    plt.legend(['Raw EEG'],loc=1)\n",
        "    \n",
        "    # Filtered signal\n",
        "    plt.subplot(4,1,2)\n",
        "    plt.plot(T[x1:x2],eeg_filt[x1:x2,channel,band],'b')\n",
        "    plt.plot(T[x1:x2],eeg_HBamp[x1:x2,channel,band],'m')\n",
        "    plt.xlim(Xmin+WW*xx)\n",
        "    plt.ylim(Ymin[1][channel,band]+HH[1][channel,band]*y2)\n",
        "    plt.grid()\n",
        "    plt.xlabel('Time (sec)')\n",
        "    plt.ylabel('Voltage $(\\mu V)$')\n",
        "    plt.legend(['Band-pass filtered EEG','Hilbert transform amplitude'],loc=1)\n",
        "    # Accumulated average power in band\n",
        "    plt.subplot(4,1,3)\n",
        "    plt.plot(T[x1:x2],eeg_power[x1:x2,channel,band],color=clr[band])\n",
        "    plt.xlim(Xmin+WW*xx)\n",
        "    plt.ylim(0,HH[2][channel,band])\n",
        "    plt.grid()\n",
        "    plt.xlabel('Time (sec)')\n",
        "    plt.ylabel('Voltage $(\\mu V)$')\n",
        "    plt.legend([waves[band]+' power'],loc=1)\n",
        "    # Power spectral density\n",
        "    f,pxx = signal.welch(eeg_np[x1:x2,channel],Fs,nperseg=npseg,axis=0) # PSD with the display window\n",
        "    plt.subplot(4,1,4)\n",
        "    plt.plot(Ff,pow2db(Pxx[:,channel]),'g')\n",
        "    plt.plot(f,pow2db(pxx),color=clr[band])\n",
        "    plt.xlim(0,fshow)\n",
        "    yl = plt.gca().get_ylim()\n",
        "    plt.plot(freq_band[band,0]*np.ones(2),yl,color=clr[band,:3]*.7)\n",
        "    plt.plot(freq_band[band,1]*np.ones(2),yl,color=clr[band,:3]*.7)\n",
        "    plt.text(freq_band[band,0],yl[0]+(yl[1]-yl[0])*(0.9-0.05*band),waves[band],color=clr[band,:3]*.3)\n",
        "    plt.ylim(yl)\n",
        "    plt.xlabel('Frequency (Hz)')\n",
        "    plt.ylabel('PSD (dB/Hz)')\n",
        "    plt.legend(['total PSD','PSD of displayed duration'],loc=1)\n",
        "    plt.show()\n",
        "    # Spectrogram\n",
        "    plt.figure(figsize=(14,5))\n",
        "    plt.pcolormesh(Xmin+t,F,SxxdB,cmap='winter')\n",
        "    plt.colorbar().set_label('Power/Frequency (dB/Hz)')\n",
        "    plt.yscale('log')\n",
        "    plt.plot(Xmin+WW*xx,freq_band[band,0]*np.ones(2),color=clr[band])\n",
        "    plt.plot(Xmin+WW*xx,freq_band[band,1]*np.ones(2),color=clr[band])\n",
        "    plt.text(Xmin+WW*xx[0],freq_band[band,0]*1.05,waves[band],color=clr[band,:3]*.7)\n",
        "    plt.xlim(Xmin+WW*xx)\n",
        "    plt.ylim(F[1],fshow)\n",
        "    plt.ylabel('Frequency (Hz)]')\n",
        "    plt.xlabel('Time (sec)')\n",
        "    plt.title('Spectrogram')\n",
        "    plt.show()"
      ],
      "execution_count": null,
      "outputs": []
    },
    {
      "cell_type": "markdown",
      "metadata": {
        "id": "BXnbxw6sc4_z"
      },
      "source": [
        "Select a channel and a rhythm to display its raw EEG, filtered EEG, accumulated power, power spectral density and spectrogram."
      ]
    },
    {
      "cell_type": "code",
      "metadata": {
        "scrolled": false,
        "id": "pbyTRMXec4_0"
      },
      "source": [
        "w_chan2 = widgets.Select(options=list(zip(channel_site,np.arange(NChannels))),value=0,rows=NChannels)\n",
        "w_band2 = widgets.Select(options=list(zip(waves,np.arange(nband))),value=0,rows=nband)\n",
        "w_px2 = widgets.FloatSlider(value=0.5,min=0.5,max=0.5,step=npseg/(N*4)/10,readout=False,continuous_update=False,orientation='horizontal',layout=xslider)\n",
        "w_py2 = widgets.FloatSlider(value=0.5,min=0.5,max=0.5,step=0.001,readout=False,continuous_update=False,orientation='vertical',layout=yslider)\n",
        "w_py3 = widgets.FloatSlider(value=0.5,min=0.5,max=0.5,step=0.001,readout=False,continuous_update=False,orientation='vertical',layout=yslider)\n",
        "w_pw2 = widgets.FloatLogSlider(value=1,base=10,min=0,max=np.log10(N*4/npseg),step=0.02,readout=False,continuous_update=False,orientation='horizontal',layout=xslider)\n",
        "w_ph2 = widgets.FloatLogSlider(value=1,base=10,min=0,max=2,step=0.02,readout=False,continuous_update=False,orientation='vertical',layout=yslider)\n",
        "w_ph3 = widgets.FloatLogSlider(value=1,base=10,min=0,max=2,step=0.02,readout=False,continuous_update=False,orientation='vertical',layout=yslider)\n",
        "w_update2 = widgets.ToggleButton(value=False,description='Continuous update',button_style='info',icon='repeat')\n",
        "\n",
        "def cont_update2(*args):\n",
        "    if w_update2.value:\n",
        "        w_update2.icon = 'times'\n",
        "        w_px2.continuous_update = True; w_pw2.continuous_update = True\n",
        "        w_py2.continuous_update = True; w_ph2.continuous_update = True\n",
        "        w_py3.continuous_update = True; w_ph3.continuous_update = True\n",
        "    else:\n",
        "        w_update2.icon = 'repeat'\n",
        "        w_px2.continuous_update = False; w_pw2.continuous_update = False\n",
        "        w_py2.continuous_update = False; w_ph2.continuous_update = False\n",
        "        w_py3.continuous_update = False; w_ph3.continuous_update = False\n",
        "w_update2.observe(cont_update2,'value')\n",
        "\n",
        "def update_px2(*arg):\n",
        "    w_px2.min = max(1/w_pw2.value/2,w_px2.value-1/w_pw2.value)\n",
        "    w_px2.max = min(1-1/w_pw2.value/2,w_px2.value+1/w_pw2.value)\n",
        "w_pw2.observe(update_px2,'value')\n",
        "w_px2.observe(update_px2,'value')\n",
        "\n",
        "def update_py2(*arg):\n",
        "    w_py2.min = max(1/w_ph2.value/2,w_py2.value-1/w_ph2.value)\n",
        "    w_py2.max = min(1-1/w_ph2.value/2,w_py2.value+1/w_ph2.value)\n",
        "w_ph2.observe(update_py2,'value')\n",
        "w_py2.observe(update_py2,'value')\n",
        "\n",
        "def update_py3(*arg):\n",
        "    w_py3.min = max(1/w_ph3.value/2,w_py3.value-1/w_ph3.value)\n",
        "    w_py3.max = min(1-1/w_ph3.value/2,w_py3.value+1/w_ph3.value)\n",
        "w_ph3.observe(update_py3,'value')\n",
        "w_py3.observe(update_py3,'value')\n",
        "\n",
        "around = Layout(align_items='flex-start',justify_content='space-around')\n",
        "out2 = interactive_output(plot_waves,{'channel':w_chan2,'band':w_band2,'px':w_px2,'py1':w_py2,'py2':w_py3,'pw':w_pw2,'ph1':w_ph2,'ph2':w_ph3})\n",
        "ui2 = VBox([ HBox([ VBox([Label('Select Channel'),w_chan2]),VBox([Label('Select Rhythm'),w_band2]) ]),\n",
        "           HBox([VBox([Label('Zoom in/out'),Label('X positon')]),VBox([w_pw2,w_px2]),w_update2],layout=around),\n",
        "           HBox([out2, VBox([HBox([Label('Y positon'),Label('Zoom in/out')]),HBox([w_py2,w_ph2]),HBox([w_py3,w_ph3])]) ],layout=around) ])\n",
        "\n",
        "display(ui2)"
      ],
      "execution_count": null,
      "outputs": []
    },
    {
      "cell_type": "code",
      "metadata": {
        "id": "JxDx0PVHc4_0"
      },
      "source": [
        ""
      ],
      "execution_count": null,
      "outputs": []
    }
  ]
}